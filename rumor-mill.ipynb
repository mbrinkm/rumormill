{
 "cells": [
  {
   "cell_type": "code",
   "execution_count": 2,
   "id": "519e66fb-04ca-473b-9379-36ff94601407",
   "metadata": {},
   "outputs": [],
   "source": [
    "import pandas as pd\n",
    "import gspread as gs\n",
    "import numpy as np \n",
    "import seaborn as sns"
   ]
  },
  {
   "cell_type": "markdown",
   "id": "77648f78-b223-4b54-a481-30ac60caa269",
   "metadata": {},
   "source": [
    "# Get data\n",
    "\n",
    "urls copied by hand, because nested iframes were a headache"
   ]
  },
  {
   "cell_type": "code",
   "execution_count": 133,
   "id": "728575e2-bfd7-49cf-ab67-e8c5d1319e94",
   "metadata": {},
   "outputs": [
    {
     "data": {
      "text/plain": [
       "{2013: 'https://docs.google.com/spreadsheets/u/0/d/1Pro72mKfMSp-vWzqNfBhhUNtYEdD9j9e6yMDT7jJhbQ/htmlembed/sheet?headers=false&gid=1448119700',\n",
       " 2014: 'https://docs.google.com/spreadsheets/u/0/d/1z3o72aiDHvPotiYZzpmbHOiurrK9baFC2YfOKhUIrx0/htmlembed/sheet?headers=false&gid=39857228',\n",
       " 2015: 'https://docs.google.com/spreadsheets/u/0/d/1qxK4EbpY5oOxA5morg-8921tAyh8znVUaXu9DCPmcEw/htmlembed/sheet?headers=false&gid=1075994724',\n",
       " 2016: 'https://docs.google.com/spreadsheets/u/0/d/1MFrI3NubTOcTb4POZo6aTUJ7M9CWjbnDwuSt3knEeOQ/htmlembed/sheet?headers=false&gid=894382486',\n",
       " 2017: 'https://docs.google.com/spreadsheets/u/0/d/1iMsLRnNNHFKmdq7ltrp9BR4jDd-Ots6UYDK2dgyRLZ0/htmlembed/sheet?headers=false&gid=0',\n",
       " 2018: 'https://docs.google.com/spreadsheets/u/0/d/1u4RuIFetw_ZNg0APlXhnbkqqYzjS2xSV9sBx0NxxfPo/htmlembed/sheet?headers=false&gid=0',\n",
       " 2019: 'https://docs.google.com/spreadsheets/u/0/d/1GV_ebj7-Itxy7Pb19Yja7a1f0J2FXuGYvMkRBhmuSBo/htmlembed/sheet?headers=false&gid=0',\n",
       " 2020: 'https://docs.google.com/spreadsheets/u/0/d/11Itq4eZBzNsjlSQGnfYib6Obiw59yToG34cC_eBYXeo/htmlembed/sheet?headers=false&gid=0',\n",
       " 2021: 'https://docs.google.com/spreadsheets/u/0/d/1tZAdZ_Q44CnGGvCWnPDXVBiYHxF-ti0G5RWJwXBwLtk/htmlembed/sheet?headers=false&gid=0',\n",
       " 2022: 'https://docs.google.com/spreadsheets/u/0/d/1Jr_agEGcS6OWorRtt_NJ9w3NR-pUUUh8CBRkFypMARI/htmlembed/sheet?headers=false&gid=0',\n",
       " 2023: 'https://docs.google.com/spreadsheets/u/0/d/1aq4go2dmM409LWNLyWgRoT9A4RnqRsr8VyoGIiWkwuw/htmlembed/sheet?headers=false&gid=0'}"
      ]
     },
     "execution_count": 133,
     "metadata": {},
     "output_type": "execute_result"
    }
   ],
   "source": [
    "urls = {2013: 'https://docs.google.com/spreadsheets/u/0/d/1Pro72mKfMSp-vWzqNfBhhUNtYEdD9j9e6yMDT7jJhbQ/htmlembed/sheet?headers=false&gid=1448119700',\n",
    "     2014: 'https://docs.google.com/spreadsheets/u/0/d/1z3o72aiDHvPotiYZzpmbHOiurrK9baFC2YfOKhUIrx0/htmlembed/sheet?headers=false&gid=39857228',\n",
    "     2015: 'https://docs.google.com/spreadsheets/u/0/d/1qxK4EbpY5oOxA5morg-8921tAyh8znVUaXu9DCPmcEw/htmlembed/sheet?headers=false&gid=1075994724',\n",
    "     2016: 'https://docs.google.com/spreadsheets/u/0/d/1MFrI3NubTOcTb4POZo6aTUJ7M9CWjbnDwuSt3knEeOQ/htmlembed/sheet?headers=false&gid=894382486',\n",
    "     2017: 'https://docs.google.com/spreadsheets/u/0/d/1iMsLRnNNHFKmdq7ltrp9BR4jDd-Ots6UYDK2dgyRLZ0/htmlembed/sheet?headers=false&gid=0',\n",
    "     2018: 'https://docs.google.com/spreadsheets/u/0/d/1u4RuIFetw_ZNg0APlXhnbkqqYzjS2xSV9sBx0NxxfPo/htmlembed/sheet?headers=false&gid=0',\n",
    "     2019: 'https://docs.google.com/spreadsheets/u/0/d/1GV_ebj7-Itxy7Pb19Yja7a1f0J2FXuGYvMkRBhmuSBo/htmlembed/sheet?headers=false&gid=0',\n",
    "     2020: 'https://docs.google.com/spreadsheets/u/0/d/11Itq4eZBzNsjlSQGnfYib6Obiw59yToG34cC_eBYXeo/htmlembed/sheet?headers=false&gid=0',\n",
    "     2021: 'https://docs.google.com/spreadsheets/u/0/d/1tZAdZ_Q44CnGGvCWnPDXVBiYHxF-ti0G5RWJwXBwLtk/htmlembed/sheet?headers=false&gid=0',\n",
    "     2022: 'https://docs.google.com/spreadsheets/u/0/d/1Jr_agEGcS6OWorRtt_NJ9w3NR-pUUUh8CBRkFypMARI/htmlembed/sheet?headers=false&gid=0',\n",
    "     2023: 'https://docs.google.com/spreadsheets/u/0/d/1aq4go2dmM409LWNLyWgRoT9A4RnqRsr8VyoGIiWkwuw/htmlembed/sheet?headers=false&gid=0'}\n",
    "urls"
   ]
  },
  {
   "cell_type": "code",
   "execution_count": 140,
   "id": "a412e0a9-6ddd-4cd3-adf7-fcff5c833fa7",
   "metadata": {},
   "outputs": [],
   "source": [
    "rumors = {}\n",
    "\n",
    "for y,u in urls.items():\n",
    "    r = pd.read_html(u, \n",
    "                        index_col=0, \n",
    "                        header=1, \n",
    "                        skiprows=0, \n",
    "                        parse_dates=True)[0]\n",
    "    rumors[y]=r"
   ]
  },
  {
   "cell_type": "code",
   "execution_count": 150,
   "id": "654658f9-bbc8-42a6-bdd0-bcaef6b837a7",
   "metadata": {},
   "outputs": [],
   "source": [
    "for k,i in rumors.items():\n",
    "    i.columns=['Name', 'Inspire link', 'Institution', 'Status', 'Timestamp']\n",
    "    i.dropna(inplace=True)"
   ]
  },
  {
   "cell_type": "code",
   "execution_count": 172,
   "id": "cbee5b13-dae1-4c02-be07-39e7b959fb44",
   "metadata": {},
   "outputs": [
    {
     "data": {
      "text/html": [
       "<div>\n",
       "<style scoped>\n",
       "    .dataframe tbody tr th:only-of-type {\n",
       "        vertical-align: middle;\n",
       "    }\n",
       "\n",
       "    .dataframe tbody tr th {\n",
       "        vertical-align: top;\n",
       "    }\n",
       "\n",
       "    .dataframe thead th {\n",
       "        text-align: right;\n",
       "    }\n",
       "</style>\n",
       "<table border=\"1\" class=\"dataframe\">\n",
       "  <thead>\n",
       "    <tr style=\"text-align: right;\">\n",
       "      <th></th>\n",
       "      <th>Name</th>\n",
       "      <th>Inspire link</th>\n",
       "      <th>Institution</th>\n",
       "      <th>Status</th>\n",
       "      <th>Timestamp</th>\n",
       "    </tr>\n",
       "  </thead>\n",
       "  <tbody>\n",
       "    <tr>\n",
       "      <th>0</th>\n",
       "      <td>E.Hatefi</td>\n",
       "      <td>http://inspirehep.net/search?p=exactauthor%3AE...</td>\n",
       "      <td>Masaryk U., Brno</td>\n",
       "      <td>Declined</td>\n",
       "      <td>2013-06-27</td>\n",
       "    </tr>\n",
       "    <tr>\n",
       "      <th>1</th>\n",
       "      <td>P.Roig</td>\n",
       "      <td>http://inspirehep.net/search?p=exactauthor%3AP...</td>\n",
       "      <td>IF-UNAM, DF, Mexico</td>\n",
       "      <td>Accepted</td>\n",
       "      <td>2013-04-26</td>\n",
       "    </tr>\n",
       "    <tr>\n",
       "      <th>2</th>\n",
       "      <td>Jessica L. Cook</td>\n",
       "      <td>https://inspirehep.net/search?p=exactauthor%3A...</td>\n",
       "      <td>Arizona State</td>\n",
       "      <td>Accepted</td>\n",
       "      <td>2013-04-15</td>\n",
       "    </tr>\n",
       "    <tr>\n",
       "      <th>3</th>\n",
       "      <td>Kristopher Healey</td>\n",
       "      <td>http://inspirehep.net/search?ln=en&amp;p=find+a+kr...</td>\n",
       "      <td>U. of Turin</td>\n",
       "      <td>Accepted</td>\n",
       "      <td>2013-04-15</td>\n",
       "    </tr>\n",
       "    <tr>\n",
       "      <th>4</th>\n",
       "      <td>T.Erler</td>\n",
       "      <td>http://inspirehep.net/search?p=exactauthor%3AT...</td>\n",
       "      <td>LMU Munich</td>\n",
       "      <td>Accepted</td>\n",
       "      <td>2013-04-01</td>\n",
       "    </tr>\n",
       "  </tbody>\n",
       "</table>\n",
       "</div>"
      ],
      "text/plain": [
       "                Name                                       Inspire link  \\\n",
       "0           E.Hatefi  http://inspirehep.net/search?p=exactauthor%3AE...   \n",
       "1             P.Roig  http://inspirehep.net/search?p=exactauthor%3AP...   \n",
       "2    Jessica L. Cook  https://inspirehep.net/search?p=exactauthor%3A...   \n",
       "3  Kristopher Healey  http://inspirehep.net/search?ln=en&p=find+a+kr...   \n",
       "4            T.Erler  http://inspirehep.net/search?p=exactauthor%3AT...   \n",
       "\n",
       "           Institution    Status  Timestamp  \n",
       "0     Masaryk U., Brno  Declined 2013-06-27  \n",
       "1  IF-UNAM, DF, Mexico  Accepted 2013-04-26  \n",
       "2        Arizona State  Accepted 2013-04-15  \n",
       "3          U. of Turin  Accepted 2013-04-15  \n",
       "4           LMU Munich  Accepted 2013-04-01  "
      ]
     },
     "execution_count": 172,
     "metadata": {},
     "output_type": "execute_result"
    }
   ],
   "source": [
    "df = pd.concat(list(rumors.values()), ignore_index=True)\n",
    "df[\"Timestamp\"] = pd.to_datetime(df['Timestamp'])\n",
    "df.head()"
   ]
  },
  {
   "cell_type": "code",
   "execution_count": 173,
   "id": "078f561a-b22d-44fc-9c29-3caa51dc934d",
   "metadata": {},
   "outputs": [],
   "source": [
    "df.to_csv('all-rumors.csv', index=False)"
   ]
  },
  {
   "cell_type": "markdown",
   "id": "8a016380-118f-4890-91ef-7e4db25ea59a",
   "metadata": {},
   "source": [
    "# Exploring data"
   ]
  },
  {
   "cell_type": "code",
   "execution_count": 3,
   "id": "4769e84c-91bd-4ac0-9d66-1492daa56547",
   "metadata": {},
   "outputs": [],
   "source": [
    "df = pd.read_csv(\"all-rumors.csv\", parse_dates=[\"Timestamp\"])"
   ]
  },
  {
   "cell_type": "code",
   "execution_count": 4,
   "id": "7670a306-2e97-4871-b878-9b49b944d3c1",
   "metadata": {},
   "outputs": [
    {
     "name": "stdout",
     "output_type": "stream",
     "text": [
      "<class 'pandas.core.frame.DataFrame'>\n",
      "RangeIndex: 5867 entries, 0 to 5866\n",
      "Data columns (total 5 columns):\n",
      " #   Column        Non-Null Count  Dtype         \n",
      "---  ------        --------------  -----         \n",
      " 0   Name          5867 non-null   object        \n",
      " 1   Inspire link  5867 non-null   object        \n",
      " 2   Institution   5867 non-null   object        \n",
      " 3   Status        5867 non-null   object        \n",
      " 4   Timestamp     5867 non-null   datetime64[ns]\n",
      "dtypes: datetime64[ns](1), object(4)\n",
      "memory usage: 229.3+ KB\n"
     ]
    }
   ],
   "source": [
    "df.info()"
   ]
  },
  {
   "cell_type": "code",
   "execution_count": 5,
   "id": "eddac5db-b904-401d-ac6f-67182ceecd30",
   "metadata": {},
   "outputs": [
    {
     "data": {
      "text/html": [
       "<div>\n",
       "<style scoped>\n",
       "    .dataframe tbody tr th:only-of-type {\n",
       "        vertical-align: middle;\n",
       "    }\n",
       "\n",
       "    .dataframe tbody tr th {\n",
       "        vertical-align: top;\n",
       "    }\n",
       "\n",
       "    .dataframe thead th {\n",
       "        text-align: right;\n",
       "    }\n",
       "</style>\n",
       "<table border=\"1\" class=\"dataframe\">\n",
       "  <thead>\n",
       "    <tr style=\"text-align: right;\">\n",
       "      <th></th>\n",
       "      <th>Name</th>\n",
       "      <th>Inspire link</th>\n",
       "      <th>Institution</th>\n",
       "      <th>Status</th>\n",
       "      <th>Timestamp</th>\n",
       "    </tr>\n",
       "  </thead>\n",
       "  <tbody>\n",
       "    <tr>\n",
       "      <th>0</th>\n",
       "      <td>E.Hatefi</td>\n",
       "      <td>http://inspirehep.net/search?p=exactauthor%3AE...</td>\n",
       "      <td>Masaryk U., Brno</td>\n",
       "      <td>Declined</td>\n",
       "      <td>2013-06-27</td>\n",
       "    </tr>\n",
       "    <tr>\n",
       "      <th>1</th>\n",
       "      <td>P.Roig</td>\n",
       "      <td>http://inspirehep.net/search?p=exactauthor%3AP...</td>\n",
       "      <td>IF-UNAM, DF, Mexico</td>\n",
       "      <td>Accepted</td>\n",
       "      <td>2013-04-26</td>\n",
       "    </tr>\n",
       "    <tr>\n",
       "      <th>2</th>\n",
       "      <td>Jessica L. Cook</td>\n",
       "      <td>https://inspirehep.net/search?p=exactauthor%3A...</td>\n",
       "      <td>Arizona State</td>\n",
       "      <td>Accepted</td>\n",
       "      <td>2013-04-15</td>\n",
       "    </tr>\n",
       "    <tr>\n",
       "      <th>3</th>\n",
       "      <td>Kristopher Healey</td>\n",
       "      <td>http://inspirehep.net/search?ln=en&amp;p=find+a+kr...</td>\n",
       "      <td>U. of Turin</td>\n",
       "      <td>Accepted</td>\n",
       "      <td>2013-04-15</td>\n",
       "    </tr>\n",
       "    <tr>\n",
       "      <th>4</th>\n",
       "      <td>T.Erler</td>\n",
       "      <td>http://inspirehep.net/search?p=exactauthor%3AT...</td>\n",
       "      <td>LMU Munich</td>\n",
       "      <td>Accepted</td>\n",
       "      <td>2013-04-01</td>\n",
       "    </tr>\n",
       "  </tbody>\n",
       "</table>\n",
       "</div>"
      ],
      "text/plain": [
       "                Name                                       Inspire link  \\\n",
       "0           E.Hatefi  http://inspirehep.net/search?p=exactauthor%3AE...   \n",
       "1             P.Roig  http://inspirehep.net/search?p=exactauthor%3AP...   \n",
       "2    Jessica L. Cook  https://inspirehep.net/search?p=exactauthor%3A...   \n",
       "3  Kristopher Healey  http://inspirehep.net/search?ln=en&p=find+a+kr...   \n",
       "4            T.Erler  http://inspirehep.net/search?p=exactauthor%3AT...   \n",
       "\n",
       "           Institution    Status  Timestamp  \n",
       "0     Masaryk U., Brno  Declined 2013-06-27  \n",
       "1  IF-UNAM, DF, Mexico  Accepted 2013-04-26  \n",
       "2        Arizona State  Accepted 2013-04-15  \n",
       "3          U. of Turin  Accepted 2013-04-15  \n",
       "4           LMU Munich  Accepted 2013-04-01  "
      ]
     },
     "execution_count": 5,
     "metadata": {},
     "output_type": "execute_result"
    }
   ],
   "source": [
    "df.head()"
   ]
  },
  {
   "cell_type": "code",
   "execution_count": 184,
   "id": "2070d82c-d0fb-4e26-8d29-b90c7544f380",
   "metadata": {},
   "outputs": [
    {
     "data": {
      "text/html": [
       "<div>\n",
       "<style scoped>\n",
       "    .dataframe tbody tr th:only-of-type {\n",
       "        vertical-align: middle;\n",
       "    }\n",
       "\n",
       "    .dataframe tbody tr th {\n",
       "        vertical-align: top;\n",
       "    }\n",
       "\n",
       "    .dataframe thead th {\n",
       "        text-align: right;\n",
       "    }\n",
       "</style>\n",
       "<table border=\"1\" class=\"dataframe\">\n",
       "  <thead>\n",
       "    <tr style=\"text-align: right;\">\n",
       "      <th></th>\n",
       "      <th>Name</th>\n",
       "      <th>Inspire link</th>\n",
       "      <th>Institution</th>\n",
       "      <th>Status</th>\n",
       "      <th>Timestamp</th>\n",
       "    </tr>\n",
       "  </thead>\n",
       "  <tbody>\n",
       "    <tr>\n",
       "      <th>4526</th>\n",
       "      <td>Max Brinkmann</td>\n",
       "      <td>https://inspirehep.net/authors/1684303</td>\n",
       "      <td>Bologna and Padova</td>\n",
       "      <td>Offered</td>\n",
       "      <td>2020-12-23 23:17:00</td>\n",
       "    </tr>\n",
       "  </tbody>\n",
       "</table>\n",
       "</div>"
      ],
      "text/plain": [
       "               Name                            Inspire link  \\\n",
       "4526  Max Brinkmann  https://inspirehep.net/authors/1684303   \n",
       "\n",
       "             Institution   Status           Timestamp  \n",
       "4526  Bologna and Padova  Offered 2020-12-23 23:17:00  "
      ]
     },
     "execution_count": 184,
     "metadata": {},
     "output_type": "execute_result"
    }
   ],
   "source": [
    "df[df[\"Name\"]==\"Max Brinkmann\"]"
   ]
  },
  {
   "cell_type": "code",
   "execution_count": 185,
   "id": "5eb11113-8771-4986-921a-3488d11510d7",
   "metadata": {},
   "outputs": [
    {
     "data": {
      "text/plain": [
       "http://inspirehep.net/author/profile/A.Berlin.1                20\n",
       "http://inspirehep.net/author/profile/Yi.Ming.Zhong.1           15\n",
       "http://inspirehep.net/author/profile/Hong.Wan.Liu.1            14\n",
       "http://inspirehep.net/author/profile/K.Schutz.1                14\n",
       "http://inspirehep.net/author/profile/M.Zimet.1                 13\n",
       "                                                               ..\n",
       "L.K.Wong.1                                                      1\n",
       "http://inspirehep.net/search?p=exactauthor%3AV.Takhistov.1+     1\n",
       "http://inspirehep.net/search?p=exactauthor%3AG.P.Kadam.1+       1\n",
       "C.Long.7                                                        1\n",
       "http://inspirehep.net/author/profile/R.Oliveri.1                1\n",
       "Name: Inspire link, Length: 2607, dtype: int64"
      ]
     },
     "execution_count": 185,
     "metadata": {},
     "output_type": "execute_result"
    }
   ],
   "source": [
    "df[\"Inspire link\"].value_counts()"
   ]
  },
  {
   "cell_type": "code",
   "execution_count": 186,
   "id": "46255557-2d26-4eaf-8b87-22f9fab32a5f",
   "metadata": {},
   "outputs": [
    {
     "data": {
      "text/plain": [
       "Chen Sun             21\n",
       "Asher Berlin         20\n",
       "Hongwan Liu          19\n",
       "Ryan Plestid         19\n",
       "Nicholas Orlofsky    17\n",
       "                     ..\n",
       "B. Vercnocke          1\n",
       "S. Giacomelli         1\n",
       "K. Fuyuto             1\n",
       "Xun. Jie. Xu          1\n",
       "Lalit Kumar Saini     1\n",
       "Name: Name, Length: 2265, dtype: int64"
      ]
     },
     "execution_count": 186,
     "metadata": {},
     "output_type": "execute_result"
    }
   ],
   "source": [
    "df[\"Name\"].value_counts()"
   ]
  },
  {
   "cell_type": "code",
   "execution_count": 189,
   "id": "c9e2c4d9-777a-4c62-b7ec-5c0285e49402",
   "metadata": {},
   "outputs": [
    {
     "data": {
      "text/plain": [
       "Offered                                         2322\n",
       "Accepted                                        1596\n",
       "Declined                                        1427\n",
       "Burke Fellowship, Offered                         16\n",
       "Burke Fellowship, Accepted                        15\n",
       "                                                ... \n",
       "3+3 years, Declined                                1\n",
       "ICTS-Simons Postdoctoral Fellowship, Offered       1\n",
       "JSPS Overseas Funding, Offered                     1\n",
       "Yale Mossman Fellowship, Declined                  1\n",
       "Black Hole Initiative, Offered                     1\n",
       "Name: Status, Length: 273, dtype: int64"
      ]
     },
     "execution_count": 189,
     "metadata": {},
     "output_type": "execute_result"
    }
   ],
   "source": [
    "df[\"Status\"].value_counts()"
   ]
  },
  {
   "cell_type": "markdown",
   "id": "de96a9c0-9837-4ea4-a21f-308012cdc1d1",
   "metadata": {},
   "source": [
    "## Reduce 'Status' to [Offered, Accepted, Declined]"
   ]
  },
  {
   "cell_type": "code",
   "execution_count": 20,
   "id": "2c3fdebd-5840-4d77-b430-772438910a2b",
   "metadata": {},
   "outputs": [],
   "source": [
    "df.loc[df['Status'].str.lower().str.contains('accepted'), 'Status'] = 'Accepted'\n",
    "\n",
    "df.loc[df['Status'].str.lower().str.contains('offered'), 'Status'] = 'Offered'\n",
    "\n",
    "df.loc[df['Status'].str.lower().str.contains('declined'), 'Status'] = 'Declined'"
   ]
  },
  {
   "cell_type": "code",
   "execution_count": 21,
   "id": "a8c0df8a-2b38-4ab3-827f-2dc18f14fc56",
   "metadata": {},
   "outputs": [
    {
     "data": {
      "text/plain": [
       "Offered                           2547\n",
       "Accepted                          1788\n",
       "Declined                          1529\n",
       "5-year, non-tenure Asst. Prof.       1\n",
       "Declindd                             1\n",
       "Director's Fellowship, Agreed        1\n",
       "Name: Status, dtype: int64"
      ]
     },
     "execution_count": 21,
     "metadata": {},
     "output_type": "execute_result"
    }
   ],
   "source": [
    "df[\"Status\"].value_counts()"
   ]
  },
  {
   "cell_type": "code",
   "execution_count": 24,
   "id": "664e1b70-5b25-453b-b6a9-3099d6b729d1",
   "metadata": {},
   "outputs": [],
   "source": [
    "df.loc[df['Status'].str.lower().str.contains('agreed'), 'Status'] = 'Accepted'\n",
    "\n",
    "df.loc[df['Status'].str.lower().str.contains('declindd'), 'Status'] = 'Declined'"
   ]
  },
  {
   "cell_type": "code",
   "execution_count": 25,
   "id": "157a293b-3887-4bdd-a9e6-a65f1a86804a",
   "metadata": {},
   "outputs": [
    {
     "data": {
      "text/plain": [
       "Offered                           2547\n",
       "Accepted                          1789\n",
       "Declined                          1530\n",
       "5-year, non-tenure Asst. Prof.       1\n",
       "Name: Status, dtype: int64"
      ]
     },
     "execution_count": 25,
     "metadata": {},
     "output_type": "execute_result"
    }
   ],
   "source": [
    "df[\"Status\"].value_counts()"
   ]
  },
  {
   "cell_type": "code",
   "execution_count": 31,
   "id": "1e18f23f-4307-4f5e-870a-7c31cd8b6401",
   "metadata": {},
   "outputs": [],
   "source": [
    "df = df.loc[(df['Status'] == 'Accepted') | (df['Status'] == 'Offered') | (df['Status'] == 'Declined')]"
   ]
  },
  {
   "cell_type": "code",
   "execution_count": 32,
   "id": "901372ab-4a58-4d75-b643-6f43c9293dcb",
   "metadata": {},
   "outputs": [
    {
     "data": {
      "text/plain": [
       "Offered     2547\n",
       "Accepted    1789\n",
       "Declined    1530\n",
       "Name: Status, dtype: int64"
      ]
     },
     "execution_count": 32,
     "metadata": {},
     "output_type": "execute_result"
    }
   ],
   "source": [
    "df[\"Status\"].value_counts()"
   ]
  },
  {
   "cell_type": "markdown",
   "id": "7b23ecae-88cb-479e-add8-8fa01899d953",
   "metadata": {},
   "source": [
    "## Try to collect names\n",
    "\n",
    "Useful structure: Multi-index, first by names then by dates"
   ]
  },
  {
   "cell_type": "code",
   "execution_count": 33,
   "id": "c1abc6a5-d84b-421c-8a8b-7455b991543f",
   "metadata": {},
   "outputs": [
    {
     "data": {
      "text/plain": [
       "Chen Sun             21\n",
       "Asher Berlin         20\n",
       "Hongwan Liu          19\n",
       "Ryan Plestid         19\n",
       "Nicholas Orlofsky    17\n",
       "                     ..\n",
       "B. Vercnocke          1\n",
       "S. Giacomelli         1\n",
       "K. Fuyuto             1\n",
       "Xun. Jie. Xu          1\n",
       "Lalit Kumar Saini     1\n",
       "Name: Name, Length: 2265, dtype: int64"
      ]
     },
     "execution_count": 33,
     "metadata": {},
     "output_type": "execute_result"
    }
   ],
   "source": [
    "df[\"Name\"].value_counts()"
   ]
  },
  {
   "cell_type": "markdown",
   "id": "4af0c297-0cd4-4cc9-8367-d443435988c3",
   "metadata": {},
   "source": [
    "### Cluster names by vectorizing, cos-similarity"
   ]
  },
  {
   "cell_type": "code",
   "execution_count": 200,
   "id": "fff3770a-05d3-45d7-8805-6b33753d904c",
   "metadata": {},
   "outputs": [],
   "source": [
    "from sklearn.feature_extraction.text import CountVectorizer\n",
    "from sklearn.feature_extraction.text import TfidfTransformer\n",
    "from sklearn.feature_extraction.text import TfidfVectorizer\n",
    "from sklearn.preprocessing import StandardScaler"
   ]
  },
  {
   "cell_type": "code",
   "execution_count": 205,
   "id": "3d18f3b5-8879-4fdc-a6dd-7e8a2c96e2e6",
   "metadata": {},
   "outputs": [],
   "source": [
    "vectorizer = TfidfVectorizer(analyzer='char', ngram_range=(1,2))\n",
    "tfidf_names = vectorizer.fit_transform(df['Name'])"
   ]
  },
  {
   "cell_type": "code",
   "execution_count": 206,
   "id": "180bb6fa-b008-405b-b4f6-cf0fa1d9f69f",
   "metadata": {},
   "outputs": [
    {
     "name": "stdout",
     "output_type": "stream",
     "text": [
      "  (0, 641)\t0.30658446966947395\n",
      "  (0, 640)\t0.2250039788789309\n",
      "  (0, 510)\t0.15947789483526392\n",
      "  (0, 498)\t0.08082274812720118\n",
      "  (0, 428)\t0.22063925264521547\n",
      "  (0, 426)\t0.2832536718189575\n",
      "  (0, 410)\t0.22822524898962118\n",
      "  (0, 391)\t0.3112847914714415\n",
      "  (0, 388)\t0.21189188311149118\n",
      "  (0, 348)\t0.4637381763172756\n",
      "  (0, 339)\t0.12409120943541177\n",
      "  (0, 306)\t0.15518239325422473\n",
      "  (0, 289)\t0.07378116369314236\n",
      "  (0, 133)\t0.24480721623888985\n",
      "  (0, 121)\t0.13234761498745118\n",
      "  (0, 116)\t0.3104098126434013\n",
      "  (0, 106)\t0.11359304831175249\n",
      "  (0, 89)\t0.12637491892389408\n",
      "  (0, 3)\t0.18711758494079514\n",
      "  (0, 0)\t0.054327815152321386\n"
     ]
    }
   ],
   "source": [
    "print(vectorizer.transform(['Max Brinkmann']))"
   ]
  },
  {
   "cell_type": "code",
   "execution_count": 207,
   "id": "b62a97eb-2dbb-44ef-ac02-cbcaab27a23b",
   "metadata": {},
   "outputs": [
    {
     "name": "stdout",
     "output_type": "stream",
     "text": [
      "(5866, 773)\n"
     ]
    }
   ],
   "source": [
    "print(tfidf_names.shape)"
   ]
  },
  {
   "cell_type": "code",
   "execution_count": 208,
   "id": "ec75ddd0-fce1-4741-a594-cbba8bea3f46",
   "metadata": {},
   "outputs": [],
   "source": [
    "from sklearn.cluster import DBSCAN\n",
    "from sklearn.metrics.pairwise import cosine_distances"
   ]
  },
  {
   "cell_type": "code",
   "execution_count": 197,
   "id": "7ffcd86c-0910-4199-beac-de3baf565d64",
   "metadata": {},
   "outputs": [],
   "source": [
    "dbscan = DBSCAN(metric=cosine_distances, eps=0.35, min_samples=1)"
   ]
  },
  {
   "cell_type": "code",
   "execution_count": 209,
   "id": "7ac35380-af98-4a4f-a5de-38059f747f57",
   "metadata": {},
   "outputs": [],
   "source": [
    "#names_cluster = dbscan.fit(bow_names)"
   ]
  },
  {
   "cell_type": "code",
   "execution_count": null,
   "id": "6a49f677-0d96-4714-b36f-0cf0b5b92e6f",
   "metadata": {},
   "outputs": [],
   "source": [
    "names_cluster.labels_"
   ]
  },
  {
   "cell_type": "code",
   "execution_count": 184,
   "id": "e5119390-4ac3-4303-a7e7-cfe2001086e4",
   "metadata": {},
   "outputs": [
    {
     "data": {
      "text/plain": [
       "(7, 58)"
      ]
     },
     "execution_count": 184,
     "metadata": {},
     "output_type": "execute_result"
    }
   ],
   "source": [
    "test_names = ['Max Brinkmann',  'M Brinkmann', 'Alex Meier', 'Ales Meir', 'Fritz Brinkmann', 'Chun Li', 'Xi Li']\n",
    "test_names = CountVectorizer(analyzer='char_wb', ngram_range=(1,2)).fit(test_names).transform(test_names)\n",
    "test_names = StandardScaler(with_mean=False).fit_transform(test_names)\n",
    "test_names.shape"
   ]
  },
  {
   "cell_type": "code",
   "execution_count": 190,
   "id": "9c580829-fa83-4ccf-a5c7-06e227a06e43",
   "metadata": {},
   "outputs": [
    {
     "data": {
      "text/plain": [
       "array([0, 0, 1, 1, 0, 2, 3], dtype=int64)"
      ]
     },
     "execution_count": 190,
     "metadata": {},
     "output_type": "execute_result"
    }
   ],
   "source": [
    "bla = DBSCAN(metric=cosine_distances, eps=0.35, min_samples=1).fit(test_names)\n",
    "bla.labels_"
   ]
  },
  {
   "cell_type": "code",
   "execution_count": 211,
   "id": "42592c83-18fa-4836-a510-658741ce8315",
   "metadata": {},
   "outputs": [],
   "source": [
    "import hmni"
   ]
  },
  {
   "cell_type": "code",
   "execution_count": 212,
   "id": "848bd85c-bf5b-4d0c-9079-67561dfb1a37",
   "metadata": {},
   "outputs": [
    {
     "name": "stderr",
     "output_type": "stream",
     "text": [
      "C:\\Users\\axbri\\anaconda3\\envs\\udemy\\lib\\site-packages\\sklearn\\base.py:329: UserWarning: Trying to unpickle estimator MaxAbsScaler from version 0.23.1 when using version 1.1.2. This might lead to breaking code or invalid results. Use at your own risk. For more info please refer to:\n",
      "https://scikit-learn.org/stable/model_persistence.html#security-maintainability-limitations\n",
      "  warnings.warn(\n",
      "C:\\Users\\axbri\\anaconda3\\envs\\udemy\\lib\\site-packages\\sklearn\\base.py:329: UserWarning: Trying to unpickle estimator MinMaxScaler from version 0.23.1 when using version 1.1.2. This might lead to breaking code or invalid results. Use at your own risk. For more info please refer to:\n",
      "https://scikit-learn.org/stable/model_persistence.html#security-maintainability-limitations\n",
      "  warnings.warn(\n",
      "C:\\Users\\axbri\\anaconda3\\envs\\udemy\\lib\\site-packages\\sklearn\\base.py:329: UserWarning: Trying to unpickle estimator DecisionTreeClassifier from version 0.23.1 when using version 1.1.2. This might lead to breaking code or invalid results. Use at your own risk. For more info please refer to:\n",
      "https://scikit-learn.org/stable/model_persistence.html#security-maintainability-limitations\n",
      "  warnings.warn(\n",
      "C:\\Users\\axbri\\anaconda3\\envs\\udemy\\lib\\site-packages\\sklearn\\base.py:329: UserWarning: Trying to unpickle estimator RandomForestClassifier from version 0.23.1 when using version 1.1.2. This might lead to breaking code or invalid results. Use at your own risk. For more info please refer to:\n",
      "https://scikit-learn.org/stable/model_persistence.html#security-maintainability-limitations\n",
      "  warnings.warn(\n",
      "C:\\Users\\axbri\\anaconda3\\envs\\udemy\\lib\\site-packages\\sklearn\\base.py:329: UserWarning: Trying to unpickle estimator Pipeline from version 0.23.1 when using version 1.1.2. This might lead to breaking code or invalid results. Use at your own risk. For more info please refer to:\n",
      "https://scikit-learn.org/stable/model_persistence.html#security-maintainability-limitations\n",
      "  warnings.warn(\n",
      "C:\\Users\\axbri\\anaconda3\\envs\\udemy\\lib\\site-packages\\sklearn\\base.py:329: UserWarning: Trying to unpickle estimator LogisticRegression from version 0.23.1 when using version 1.1.2. This might lead to breaking code or invalid results. Use at your own risk. For more info please refer to:\n",
      "https://scikit-learn.org/stable/model_persistence.html#security-maintainability-limitations\n",
      "  warnings.warn(\n"
     ]
    }
   ],
   "source": [
    "matcher = hmni.Matcher(model='latin')"
   ]
  },
  {
   "cell_type": "code",
   "execution_count": 214,
   "id": "02a72689-6164-412d-8649-4fb1560e50dc",
   "metadata": {},
   "outputs": [
    {
     "ename": "AttributeError",
     "evalue": "'MinMaxScaler' object has no attribute 'clip'",
     "output_type": "error",
     "traceback": [
      "\u001b[1;31m---------------------------------------------------------------------------\u001b[0m",
      "\u001b[1;31mAttributeError\u001b[0m                            Traceback (most recent call last)",
      "Input \u001b[1;32mIn [214]\u001b[0m, in \u001b[0;36m<cell line: 1>\u001b[1;34m()\u001b[0m\n\u001b[1;32m----> 1\u001b[0m \u001b[43mmatcher\u001b[49m\u001b[38;5;241;43m.\u001b[39;49m\u001b[43mdedupe\u001b[49m\u001b[43m(\u001b[49m\u001b[43m[\u001b[49m\u001b[38;5;124;43m'\u001b[39;49m\u001b[38;5;124;43mMax Brinkmann\u001b[39;49m\u001b[38;5;124;43m'\u001b[39;49m\u001b[43m,\u001b[49m\u001b[43m  \u001b[49m\u001b[38;5;124;43m'\u001b[39;49m\u001b[38;5;124;43mM Brinkmann\u001b[39;49m\u001b[38;5;124;43m'\u001b[39;49m\u001b[43m,\u001b[49m\u001b[43m \u001b[49m\u001b[38;5;124;43m'\u001b[39;49m\u001b[38;5;124;43mAlex Meier\u001b[39;49m\u001b[38;5;124;43m'\u001b[39;49m\u001b[43m,\u001b[49m\u001b[43m \u001b[49m\u001b[38;5;124;43m'\u001b[39;49m\u001b[38;5;124;43mAles Meir\u001b[39;49m\u001b[38;5;124;43m'\u001b[39;49m\u001b[43m,\u001b[49m\u001b[43m \u001b[49m\u001b[38;5;124;43m'\u001b[39;49m\u001b[38;5;124;43mFritz Brinkmann\u001b[39;49m\u001b[38;5;124;43m'\u001b[39;49m\u001b[43m,\u001b[49m\u001b[43m \u001b[49m\u001b[38;5;124;43m'\u001b[39;49m\u001b[38;5;124;43mChun Li\u001b[39;49m\u001b[38;5;124;43m'\u001b[39;49m\u001b[43m,\u001b[49m\u001b[43m \u001b[49m\u001b[38;5;124;43m'\u001b[39;49m\u001b[38;5;124;43mXi Li\u001b[39;49m\u001b[38;5;124;43m'\u001b[39;49m\u001b[43m]\u001b[49m\u001b[43m)\u001b[49m\n",
      "File \u001b[1;32m~\\anaconda3\\envs\\udemy\\lib\\site-packages\\hmni\\matcher.py:333\u001b[0m, in \u001b[0;36mMatcher.dedupe\u001b[1;34m(self, names, threshold, keep, replace, reverse, surname_first, limit)\u001b[0m\n\u001b[0;32m    331\u001b[0m     \u001b[38;5;28;01mpass\u001b[39;00m\n\u001b[0;32m    332\u001b[0m \u001b[38;5;66;03m# find fuzzy matches\u001b[39;00m\n\u001b[1;32m--> 333\u001b[0m matches \u001b[38;5;241m=\u001b[39m \u001b[38;5;28;43mself\u001b[39;49m\u001b[38;5;241;43m.\u001b[39;49m\u001b[43mget_top_matches\u001b[49m\u001b[43m(\u001b[49m\u001b[43mitem\u001b[49m\u001b[43m,\u001b[49m\u001b[43m \u001b[49m\u001b[43mnames\u001b[49m\u001b[43m,\u001b[49m\u001b[43m \u001b[49m\u001b[43mlimit\u001b[49m\u001b[38;5;241;43m=\u001b[39;49m\u001b[43mlimit\u001b[49m\u001b[43m,\u001b[49m\u001b[43m \u001b[49m\u001b[43mthresh\u001b[49m\u001b[38;5;241;43m=\u001b[39;49m\u001b[43mthreshold\u001b[49m\u001b[43m,\u001b[49m\n\u001b[0;32m    334\u001b[0m \u001b[43m                               \u001b[49m\u001b[43mexact\u001b[49m\u001b[38;5;241;43m=\u001b[39;49m\u001b[38;5;28;43;01mTrue\u001b[39;49;00m\u001b[43m,\u001b[49m\u001b[43m \u001b[49m\u001b[43msurname_first\u001b[49m\u001b[38;5;241;43m=\u001b[39;49m\u001b[43msurname_first\u001b[49m\u001b[43m)\u001b[49m\n\u001b[0;32m    335\u001b[0m \u001b[38;5;66;03m# no duplicates found\u001b[39;00m\n\u001b[0;32m    336\u001b[0m \u001b[38;5;28;01mif\u001b[39;00m \u001b[38;5;28mlen\u001b[39m(matches) \u001b[38;5;241m==\u001b[39m \u001b[38;5;241m0\u001b[39m:\n",
      "File \u001b[1;32m~\\anaconda3\\envs\\udemy\\lib\\site-packages\\hmni\\matcher.py:435\u001b[0m, in \u001b[0;36mMatcher.get_top_matches\u001b[1;34m(self, name, choices, thresh, exact, limit, surname_first)\u001b[0m\n\u001b[0;32m    433\u001b[0m \u001b[38;5;28;01mdef\u001b[39;00m \u001b[38;5;21mget_top_matches\u001b[39m(\u001b[38;5;28mself\u001b[39m, name, choices, thresh\u001b[38;5;241m=\u001b[39m\u001b[38;5;241m0.5\u001b[39m, exact\u001b[38;5;241m=\u001b[39m\u001b[38;5;28;01mTrue\u001b[39;00m, limit\u001b[38;5;241m=\u001b[39m\u001b[38;5;241m1\u001b[39m, surname_first\u001b[38;5;241m=\u001b[39m\u001b[38;5;28;01mFalse\u001b[39;00m):\n\u001b[0;32m    434\u001b[0m     sl \u001b[38;5;241m=\u001b[39m \u001b[38;5;28mself\u001b[39m\u001b[38;5;241m.\u001b[39mget_matches(name, choices, thresh, exact, surname_first\u001b[38;5;241m=\u001b[39msurname_first)\n\u001b[1;32m--> 435\u001b[0m     \u001b[38;5;28;01mreturn\u001b[39;00m \u001b[43mheapq\u001b[49m\u001b[38;5;241;43m.\u001b[39;49m\u001b[43mnlargest\u001b[49m\u001b[43m(\u001b[49m\u001b[43mlimit\u001b[49m\u001b[43m,\u001b[49m\u001b[43m \u001b[49m\u001b[43msl\u001b[49m\u001b[43m,\u001b[49m\u001b[43m \u001b[49m\u001b[43mkey\u001b[49m\u001b[38;5;241;43m=\u001b[39;49m\u001b[38;5;28;43;01mlambda\u001b[39;49;00m\u001b[43m \u001b[49m\u001b[43mi\u001b[49m\u001b[43m:\u001b[49m\u001b[43m \u001b[49m\u001b[43mi\u001b[49m\u001b[43m[\u001b[49m\u001b[38;5;241;43m1\u001b[39;49m\u001b[43m]\u001b[49m\u001b[43m)\u001b[49m \u001b[38;5;28;01mif\u001b[39;00m limit \u001b[38;5;129;01mis\u001b[39;00m \u001b[38;5;129;01mnot\u001b[39;00m \u001b[38;5;28;01mNone\u001b[39;00m \u001b[38;5;28;01melse\u001b[39;00m \u001b[38;5;28msorted\u001b[39m(\n\u001b[0;32m    436\u001b[0m         sl, key\u001b[38;5;241m=\u001b[39m\u001b[38;5;28;01mlambda\u001b[39;00m i: i[\u001b[38;5;241m1\u001b[39m], reverse\u001b[38;5;241m=\u001b[39m\u001b[38;5;28;01mTrue\u001b[39;00m)\n",
      "File \u001b[1;32m~\\anaconda3\\envs\\udemy\\lib\\heapq.py:563\u001b[0m, in \u001b[0;36mnlargest\u001b[1;34m(n, iterable, key)\u001b[0m\n\u001b[0;32m    561\u001b[0m \u001b[38;5;66;03m# General case, slowest method\u001b[39;00m\n\u001b[0;32m    562\u001b[0m it \u001b[38;5;241m=\u001b[39m \u001b[38;5;28miter\u001b[39m(iterable)\n\u001b[1;32m--> 563\u001b[0m result \u001b[38;5;241m=\u001b[39m [(key(elem), i, elem) \u001b[38;5;28;01mfor\u001b[39;00m i, elem \u001b[38;5;129;01min\u001b[39;00m \u001b[38;5;28mzip\u001b[39m(\u001b[38;5;28mrange\u001b[39m(\u001b[38;5;241m0\u001b[39m, \u001b[38;5;241m-\u001b[39mn, \u001b[38;5;241m-\u001b[39m\u001b[38;5;241m1\u001b[39m), it)]\n\u001b[0;32m    564\u001b[0m \u001b[38;5;28;01mif\u001b[39;00m \u001b[38;5;129;01mnot\u001b[39;00m result:\n\u001b[0;32m    565\u001b[0m     \u001b[38;5;28;01mreturn\u001b[39;00m result\n",
      "File \u001b[1;32m~\\anaconda3\\envs\\udemy\\lib\\heapq.py:563\u001b[0m, in \u001b[0;36m<listcomp>\u001b[1;34m(.0)\u001b[0m\n\u001b[0;32m    561\u001b[0m \u001b[38;5;66;03m# General case, slowest method\u001b[39;00m\n\u001b[0;32m    562\u001b[0m it \u001b[38;5;241m=\u001b[39m \u001b[38;5;28miter\u001b[39m(iterable)\n\u001b[1;32m--> 563\u001b[0m result \u001b[38;5;241m=\u001b[39m [(key(elem), i, elem) \u001b[38;5;28;01mfor\u001b[39;00m i, elem \u001b[38;5;129;01min\u001b[39;00m \u001b[38;5;28mzip\u001b[39m(\u001b[38;5;28mrange\u001b[39m(\u001b[38;5;241m0\u001b[39m, \u001b[38;5;241m-\u001b[39mn, \u001b[38;5;241m-\u001b[39m\u001b[38;5;241m1\u001b[39m), it)]\n\u001b[0;32m    564\u001b[0m \u001b[38;5;28;01mif\u001b[39;00m \u001b[38;5;129;01mnot\u001b[39;00m result:\n\u001b[0;32m    565\u001b[0m     \u001b[38;5;28;01mreturn\u001b[39;00m result\n",
      "File \u001b[1;32m~\\anaconda3\\envs\\udemy\\lib\\site-packages\\hmni\\matcher.py:445\u001b[0m, in \u001b[0;36mMatcher.get_matches\u001b[1;34m(self, name, choices, score_cutoff, exact, surname_first)\u001b[0m\n\u001b[0;32m    443\u001b[0m exact \u001b[38;5;241m=\u001b[39m \u001b[38;5;241m2\u001b[39m \u001b[38;5;28;01mif\u001b[39;00m exact \u001b[38;5;129;01mis\u001b[39;00m \u001b[38;5;28;01mTrue\u001b[39;00m \u001b[38;5;28;01melse\u001b[39;00m \u001b[38;5;241m1\u001b[39m\n\u001b[0;32m    444\u001b[0m \u001b[38;5;28;01mfor\u001b[39;00m choice \u001b[38;5;129;01min\u001b[39;00m choices:\n\u001b[1;32m--> 445\u001b[0m     score \u001b[38;5;241m=\u001b[39m \u001b[38;5;28;43mself\u001b[39;49m\u001b[38;5;241;43m.\u001b[39;49m\u001b[43msimilarity\u001b[49m\u001b[43m(\u001b[49m\u001b[43mname\u001b[49m\u001b[43m,\u001b[49m\u001b[43m \u001b[49m\u001b[43mchoice\u001b[49m\u001b[43m,\u001b[49m\u001b[43m \u001b[49m\u001b[43msurname_first\u001b[49m\u001b[38;5;241;43m=\u001b[39;49m\u001b[43msurname_first\u001b[49m\u001b[43m)\u001b[49m\n\u001b[0;32m    446\u001b[0m     \u001b[38;5;28;01mif\u001b[39;00m exact \u001b[38;5;241m>\u001b[39m score \u001b[38;5;241m>\u001b[39m\u001b[38;5;241m=\u001b[39m score_cutoff:\n\u001b[0;32m    447\u001b[0m         \u001b[38;5;28;01myield\u001b[39;00m choice, score\n",
      "File \u001b[1;32m~\\anaconda3\\envs\\udemy\\lib\\site-packages\\hmni\\matcher.py:266\u001b[0m, in \u001b[0;36mMatcher.similarity\u001b[1;34m(self, name_a, name_b, prob, threshold, surname_first)\u001b[0m\n\u001b[0;32m    264\u001b[0m features \u001b[38;5;241m=\u001b[39m \u001b[38;5;28mself\u001b[39m\u001b[38;5;241m.\u001b[39mfeaturize(pair)\n\u001b[0;32m    265\u001b[0m \u001b[38;5;66;03m# make inference on meta model\u001b[39;00m\n\u001b[1;32m--> 266\u001b[0m sim \u001b[38;5;241m=\u001b[39m \u001b[38;5;28;43mself\u001b[39;49m\u001b[38;5;241;43m.\u001b[39;49m\u001b[43mmeta_inf\u001b[49m\u001b[43m(\u001b[49m\u001b[43mpair\u001b[49m\u001b[43m,\u001b[49m\u001b[43m \u001b[49m\u001b[43mfeatures\u001b[49m\u001b[43m)\u001b[49m\n\u001b[0;32m    268\u001b[0m \u001b[38;5;28;01mif\u001b[39;00m \u001b[38;5;129;01mnot\u001b[39;00m missing_component:\n\u001b[0;32m    269\u001b[0m     \u001b[38;5;66;03m# add pair score to the seen dictionary\u001b[39;00m\n\u001b[0;32m    270\u001b[0m     \u001b[38;5;28mself\u001b[39m\u001b[38;5;241m.\u001b[39mseen_pairs[\u001b[38;5;28mhash\u001b[39m(pair)] \u001b[38;5;241m=\u001b[39m sim\n",
      "File \u001b[1;32m~\\anaconda3\\envs\\udemy\\lib\\site-packages\\hmni\\matcher.py:418\u001b[0m, in \u001b[0;36mMatcher.meta_inf\u001b[1;34m(self, pair, base_features)\u001b[0m\n\u001b[0;32m    416\u001b[0m \u001b[38;5;28;01mdef\u001b[39;00m \u001b[38;5;21mmeta_inf\u001b[39m(\u001b[38;5;28mself\u001b[39m, pair, base_features):\n\u001b[0;32m    417\u001b[0m     meta_features \u001b[38;5;241m=\u001b[39m np\u001b[38;5;241m.\u001b[39mzeros(\u001b[38;5;241m5\u001b[39m)\n\u001b[1;32m--> 418\u001b[0m     meta_features[\u001b[38;5;241m0\u001b[39m] \u001b[38;5;241m=\u001b[39m \u001b[38;5;28;43mself\u001b[39;49m\u001b[38;5;241;43m.\u001b[39;49m\u001b[43mbase_model_inf\u001b[49m\u001b[43m(\u001b[49m\u001b[43mbase_features\u001b[49m\u001b[43m)\u001b[49m\n\u001b[0;32m    419\u001b[0m     meta_features[\u001b[38;5;241m1\u001b[39m] \u001b[38;5;241m=\u001b[39m \u001b[38;5;28mself\u001b[39m\u001b[38;5;241m.\u001b[39msiamese_inf(pair)\n\u001b[0;32m    420\u001b[0m     \u001b[38;5;66;03m# add base features to meta_features ('tkn_set', 'iterativesubstring', 'strcmp95')\u001b[39;00m\n",
      "File \u001b[1;32m~\\anaconda3\\envs\\udemy\\lib\\site-packages\\hmni\\matcher.py:413\u001b[0m, in \u001b[0;36mMatcher.base_model_inf\u001b[1;34m(self, x)\u001b[0m\n\u001b[0;32m    411\u001b[0m \u001b[38;5;28;01mdef\u001b[39;00m \u001b[38;5;21mbase_model_inf\u001b[39m(\u001b[38;5;28mself\u001b[39m, x):\n\u001b[0;32m    412\u001b[0m     \u001b[38;5;66;03m# get the positive class prediction from model\u001b[39;00m\n\u001b[1;32m--> 413\u001b[0m     y_pred \u001b[38;5;241m=\u001b[39m \u001b[38;5;28;43mself\u001b[39;49m\u001b[38;5;241;43m.\u001b[39;49m\u001b[43mbaseModel\u001b[49m\u001b[38;5;241;43m.\u001b[39;49m\u001b[43mpredict_proba\u001b[49m\u001b[43m(\u001b[49m\u001b[43mx\u001b[49m\u001b[38;5;241;43m.\u001b[39;49m\u001b[43mreshape\u001b[49m\u001b[43m(\u001b[49m\u001b[38;5;241;43m1\u001b[39;49m\u001b[43m,\u001b[49m\u001b[43m \u001b[49m\u001b[38;5;241;43m-\u001b[39;49m\u001b[38;5;241;43m1\u001b[39;49m\u001b[43m)\u001b[49m\u001b[43m)\u001b[49m[\u001b[38;5;241m0\u001b[39m, \u001b[38;5;241m1\u001b[39m]\n\u001b[0;32m    414\u001b[0m     \u001b[38;5;28;01mreturn\u001b[39;00m y_pred\n",
      "File \u001b[1;32m~\\anaconda3\\envs\\udemy\\lib\\site-packages\\sklearn\\pipeline.py:523\u001b[0m, in \u001b[0;36mPipeline.predict_proba\u001b[1;34m(self, X, **predict_proba_params)\u001b[0m\n\u001b[0;32m    521\u001b[0m Xt \u001b[38;5;241m=\u001b[39m X\n\u001b[0;32m    522\u001b[0m \u001b[38;5;28;01mfor\u001b[39;00m _, name, transform \u001b[38;5;129;01min\u001b[39;00m \u001b[38;5;28mself\u001b[39m\u001b[38;5;241m.\u001b[39m_iter(with_final\u001b[38;5;241m=\u001b[39m\u001b[38;5;28;01mFalse\u001b[39;00m):\n\u001b[1;32m--> 523\u001b[0m     Xt \u001b[38;5;241m=\u001b[39m \u001b[43mtransform\u001b[49m\u001b[38;5;241;43m.\u001b[39;49m\u001b[43mtransform\u001b[49m\u001b[43m(\u001b[49m\u001b[43mXt\u001b[49m\u001b[43m)\u001b[49m\n\u001b[0;32m    524\u001b[0m \u001b[38;5;28;01mreturn\u001b[39;00m \u001b[38;5;28mself\u001b[39m\u001b[38;5;241m.\u001b[39msteps[\u001b[38;5;241m-\u001b[39m\u001b[38;5;241m1\u001b[39m][\u001b[38;5;241m1\u001b[39m]\u001b[38;5;241m.\u001b[39mpredict_proba(Xt, \u001b[38;5;241m*\u001b[39m\u001b[38;5;241m*\u001b[39mpredict_proba_params)\n",
      "File \u001b[1;32m~\\anaconda3\\envs\\udemy\\lib\\site-packages\\sklearn\\preprocessing\\_data.py:509\u001b[0m, in \u001b[0;36mMinMaxScaler.transform\u001b[1;34m(self, X)\u001b[0m\n\u001b[0;32m    507\u001b[0m X \u001b[38;5;241m*\u001b[39m\u001b[38;5;241m=\u001b[39m \u001b[38;5;28mself\u001b[39m\u001b[38;5;241m.\u001b[39mscale_\n\u001b[0;32m    508\u001b[0m X \u001b[38;5;241m+\u001b[39m\u001b[38;5;241m=\u001b[39m \u001b[38;5;28mself\u001b[39m\u001b[38;5;241m.\u001b[39mmin_\n\u001b[1;32m--> 509\u001b[0m \u001b[38;5;28;01mif\u001b[39;00m \u001b[38;5;28;43mself\u001b[39;49m\u001b[38;5;241;43m.\u001b[39;49m\u001b[43mclip\u001b[49m:\n\u001b[0;32m    510\u001b[0m     np\u001b[38;5;241m.\u001b[39mclip(X, \u001b[38;5;28mself\u001b[39m\u001b[38;5;241m.\u001b[39mfeature_range[\u001b[38;5;241m0\u001b[39m], \u001b[38;5;28mself\u001b[39m\u001b[38;5;241m.\u001b[39mfeature_range[\u001b[38;5;241m1\u001b[39m], out\u001b[38;5;241m=\u001b[39mX)\n\u001b[0;32m    511\u001b[0m \u001b[38;5;28;01mreturn\u001b[39;00m X\n",
      "\u001b[1;31mAttributeError\u001b[0m: 'MinMaxScaler' object has no attribute 'clip'"
     ]
    }
   ],
   "source": [
    "matcher.dedupe(['Max Brinkmann',  'M Brinkmann', 'Alex Meier', 'Ales Meir', 'Fritz Brinkmann', 'Chun Li', 'Xi Li'])"
   ]
  },
  {
   "cell_type": "code",
   "execution_count": null,
   "id": "2376c0b4-6d6c-45f7-a038-5d228af7ccb4",
   "metadata": {},
   "outputs": [],
   "source": []
  }
 ],
 "metadata": {
  "kernelspec": {
   "display_name": "Python 3 (ipykernel)",
   "language": "python",
   "name": "python3"
  },
  "language_info": {
   "codemirror_mode": {
    "name": "ipython",
    "version": 3
   },
   "file_extension": ".py",
   "mimetype": "text/x-python",
   "name": "python",
   "nbconvert_exporter": "python",
   "pygments_lexer": "ipython3",
   "version": "3.9.13"
  }
 },
 "nbformat": 4,
 "nbformat_minor": 5
}
